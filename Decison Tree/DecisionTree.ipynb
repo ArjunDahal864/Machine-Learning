{
 "cells": [
  {
   "cell_type": "code",
   "execution_count": 90,
   "metadata": {},
   "outputs": [],
   "source": [
    "import pandas as pd\n",
    "from sklearn.tree import DecisionTreeClassifier\n",
    "from sklearn.model_selection import train_test_split\n",
    "from sklearn.metrics import accuracy_score\n",
    "import joblib"
   ]
  },
  {
   "cell_type": "code",
   "execution_count": 82,
   "metadata": {},
   "outputs": [
    {
     "data": {
      "text/plain": [
       "1.0"
      ]
     },
     "execution_count": 82,
     "metadata": {},
     "output_type": "execute_result"
    }
   ],
   "source": [
    "# Import Data\n",
    "music_data = pd.read_csv(\"music.csv\")\n",
    "# Data modification\n",
    "# X is the age and gender\n",
    "X= music_data.drop(columns='genre')\n",
    "# y is genre\n",
    "y = music_data['genre']\n",
    "\n",
    "# Algorithm\n",
    "model = DecisionTreeClassifier()\n",
    "\n",
    "# Train And Test Data Set \n",
    "# Here we are using a function from sklearn called train_test_split\n",
    "# This Splits the data X and y to the given prams the size is in percentage\n",
    "# X and y Basically means (X= age,gender) and (y=genre)\n",
    "# X_train means the 80% of X\n",
    "# y_train means the 80% of y\n",
    "# X_test means 20% of X (this will work as the data which we test against our 80% of X)\n",
    "# y_test means 20% of Y (this will work as the data which we test against our 80% of y)\n",
    "\n",
    "X_train,X_test,y_train,y_test = train_test_split(X,y,test_size=0.2)\n",
    "\n",
    "# We have to train so we are fitting here 80% of both X and y\n",
    "model.fit(X_train,y_train)\n",
    "\n",
    "# We will predict the rest 20% of X as we want to test\n",
    "# This will be replaced with other test data if we want to predict the genre with new data\n",
    "predictions = model.predict(X_test)\n",
    "# Here we are again using accuracy_score function from sklearn to test\n",
    "# the accuracy of our production wherether the prediction score is good or not.\n",
    "\n",
    "score = accuracy_score(y_test,predictions)\n",
    "# Our accuract is between 50% to 100% which is weird but given the size of data we have it's for for now.\n",
    "score"
   ]
  },
  {
   "cell_type": "code",
   "execution_count": 92,
   "metadata": {},
   "outputs": [
    {
     "data": {
      "text/plain": [
       "['music-recomender.joblib']"
      ]
     },
     "execution_count": 92,
     "metadata": {},
     "output_type": "execute_result"
    }
   ],
   "source": [
    "# exporting the model \n",
    "joblib.dump(model, \"music-recomender.joblib\")"
   ]
  },
  {
   "cell_type": "code",
   "execution_count": 99,
   "metadata": {},
   "outputs": [
    {
     "name": "stderr",
     "output_type": "stream",
     "text": [
      "/Users/azminds-arjun/Documents/GitHub/Machine Learning/env/lib/python3.9/site-packages/sklearn/base.py:409: UserWarning: X does not have valid feature names, but DecisionTreeClassifier was fitted with feature names\n",
      "  warnings.warn(\n"
     ]
    },
    {
     "data": {
      "text/plain": [
       "array(['Dance'], dtype=object)"
      ]
     },
     "execution_count": 99,
     "metadata": {},
     "output_type": "execute_result"
    }
   ],
   "source": [
    "# Load JobLib And Predict\n",
    "model = joblib.load(\"music-recomender.joblib\")\n",
    "prediction = model.predict([[12,0]])\n",
    "prediction"
   ]
  }
 ],
 "metadata": {
  "kernelspec": {
   "display_name": "Python 3 (ipykernel)",
   "language": "python",
   "name": "python3"
  },
  "language_info": {
   "codemirror_mode": {
    "name": "ipython",
    "version": 3
   },
   "file_extension": ".py",
   "mimetype": "text/x-python",
   "name": "python",
   "nbconvert_exporter": "python",
   "pygments_lexer": "ipython3",
   "version": "3.9.6"
  }
 },
 "nbformat": 4,
 "nbformat_minor": 2
}
